{
 "cells": [
  {
   "cell_type": "code",
   "execution_count": 11,
   "metadata": {
    "id": "mAGc-w96DCxZ"
   },
   "outputs": [],
   "source": [
    "# Matemáticas - estadísticas\n",
    "import numpy as np\n",
    "import math\n",
    "\n",
    "# Visualización\n",
    "import seaborn as sns\n",
    "import matplotlib.pyplot as plt\n",
    "\n",
    "# Interactividad\n",
    "import ipywidgets"
   ]
  },
  {
   "cell_type": "markdown",
   "metadata": {},
   "source": [
    "intensidad <div align='center'><font size=5>Series de Fourier</font></div amplitud de la isu interpretación>\n",
    "\n",
    "## Interpretación\n",
    "<center><font size = 4>General</font></center>\n",
    "<br>\n",
    "La serie de Fourier es la descomposición de una función $f(x)$ en varias funciones sinusoidales que sumadas y multiplicadas por unos coeficientes aproximen a $f(x)$, la ecuación que aproxima a $f(x)$ isu interpretación>\n",
    "\n",
    "su interpretación es la intensidad de amplitud de la i-ésima onda senosoidal.\n",
    "$$ \\frac{a_0}{2} + \\sum_{n=1}^{\\infty} \\left[ a_n \\cos\\left(\\frac{2\\pi n}{T}x\\right) + b_n \\sin\\left(\\frac{2\\pi n}{T}x\\right) \\right]$$\n",
    "\n",
    "<br>\n",
    "<center><font size=4>Coeficientes de Fourier</font></center>\n",
    "\n",
    "[comment]: <Término a0>\n",
    "* $a_{0}$ equivale al sub-término previo a la sumatoria y su interpretación es el valor medio de la función.\n",
    "  $$ a_0 = \\frac{2}{T} \\int_{T} f(x) \\,dx $$\n",
    "\n",
    "[comment]: <Término an>\n",
    "* $a_{n}$ es el n-ésimo coeficiente de la n-ésima función trigonométrica ***coseno***, su interpretación es la intensidad de amplitud de la n-ésima onda senosoidal.\n",
    "  $$ a_n = \\frac{2}{T} \\int_{T} f(x) \\cos\\left(\\frac{2\\pi n}{T}x\\right) \\,dx $$\n",
    "\n",
    "[comment]: <Término bn>\n",
    "* De forma análoga, $b_{n}$ es el n-ésimo coeficiente de la n-ésima función trigonométrica ***seno***, su interpretación es la intensidad de amplitud de la n-ésima onda senosoidal.\n",
    "  $$ b_n = \\frac{2}{T} \\int_{T} f(x) \\sin\\left(\\frac{2\\pi n}{T}x\\right) \\,dx $$\n",
    "\n",
    "<br>\n",
    "<center><font size=4>Funciones trigonométricas</font></center>\n",
    "\n",
    "\n",
    "[comment]: <x>\n",
    "* En nuestro caso la adaptación de series de Fourier se determina en un contexto temporal, éste está definido en el eje x, de donde se establece su notación y aunque es más legible $t$, no se implementa esta notación para evitar confusiones con el periodo $T$.\n"
   ]
  },
  {
   "cell_type": "markdown",
   "metadata": {},
   "source": [
    "### Ejemplo 1\n",
    "\n",
    "Consideremos la siguiente función a trozos definida en el dominio de intervalo [-5,5] y de périodo $T = 10$.\n",
    "$$ f(x) = \\left\\{\n",
    "    \\begin{array}{lcc} \n",
    "    3 & si & x > 0 \\\\\n",
    "    0 & si & x < 0 \n",
    "    \\end{array} \n",
    "    \\right.\n",
    "$$"
   ]
  },
  {
   "cell_type": "code",
   "execution_count": 12,
   "metadata": {},
   "outputs": [
    {
     "data": {
      "image/png": "[encoded data removed]",
      "text/plain": [
       "<Figure size 640x480 with 1 Axes>"
      ]
     },
     "metadata": {},
     "output_type": "display_data"
    }
   ],
   "source": [
    "# Generando espacio de trabajo\n",
    "t1 = np.linspace(-5,5,100) # variable independiente (temporal)\n",
    "y1 = np.zeros(100) # imágen cuando x es menor a 0\n",
    "y1[50:] = 3 # imágen cuando x es mayor o igual a 0\n",
    "\n",
    "# Generar la gráfica\n",
    "plt.plot(t1,y1,'b.')\n",
    "plt.legend(['f(x)'])\n",
    "plt.axis([-5,5,-1,5])\n",
    "plt.grid(True)\n",
    "plt.title(\"Función original\")\n",
    "plt.show()"
   ]
  },
  {
   "cell_type": "markdown",
   "metadata": {},
   "source": [
    "#### Coeficientes de Fourier\n",
    "\n",
    "En esta parte (como el título indica) es para determinar los coeficientes de Fourier que pertenecen a la función $f(x)$, es importante recordar que la integral de cero (0) es igual a cero (0) y por ende, al momento de integrar no se tomará en cuenta el intervalo de la función donde la imágen de la misma es cero(0).\n",
    "\n",
    "<center><font size=4>Coeficiente $a_0$</font></center>\n",
    "\n",
    "Implementando la fórmula para hallar el coeficiente $a_0$ y reemplazando por los valores pertenecientes al ejemplo 1 obtenemos:\n",
    "$$ a_0 = \\frac{1}{5} \\int_{0}^{5} 3 \\,dx = \\frac{1}{5} (3x)\\big|_{0}^{5} = \\frac{15}{5} = 3 $$\n",
    "\n",
    "<center><font size=4>Coeficiente $a_n$</font></center>\n",
    "\n",
    "Implementando la fórmula para hallar el coeficiente $a_n$ y reemplazando por los valores pertenecientes al ejemplo 1 obtenemos:\n",
    "$$ a_n = \\frac{1}{5} \\int_{0}^{5} 3 \\cos\\left(\\frac{\\pi n }{5}x\\right)\\,dx = \\frac{1}{5} \\left( \\frac{15}{\\pi n} \\sin\\left(\\frac{\\pi n }{5}x\\right)\\right)\\big|_{0}^{5} $$\n",
    "\n",
    "<center><font size=2>Evaluando senos y aplicando propiedades</font></center>\n",
    "\n",
    "$$ a_n = \\frac{1}{5} \\left( \\frac{15}{\\pi n} \\sin\\left(\\pi n\\right) - \\frac{15}{\\pi n} \\sin\\left(0\\right) \\right) = \\frac{1}{5} \\left(0-0\\right) = 0 $$\n",
    "\n",
    "<center><font size=4>Coeficiente $b_n$</font></center>\n",
    "\n",
    "Implementando la fórmula para hallar el coeficiente $a_n$ y reemplazando por los valores pertenecientes al ejemplo 1 obtenemos:\n",
    "$$ b_n = \\frac{1}{5} \\int_{0}^{5} 3 \\sin\\left(\\frac{\\pi n }{5}x\\right)\\,dx = \\frac{1}{5} \\left( -\\frac{15}{\\pi n} \\cos\\left(\\frac{\\pi n }{5}x\\right)\\right)\\big|_{0}^{5} $$\n",
    "<center><font size=2>Evaluando</font></center>\n",
    "\n",
    "$$ b_n = \\frac{1}{5} \\left( -\\frac{15}{\\pi n} \\cos\\left(\\pi n\\right) + \\frac{15}{\\pi n} \\cos\\left(0\\right) \\right) $$\n",
    "<center><font size=2>Factorizando y reescribiendo</font></center>\n",
    "\n",
    "$$ b_n = \\frac{3}{\\pi n} \\left( (-1)\\cos\\left(\\pi n\\right) + \\cos\\left(0\\right) \\right) $$\n",
    "<center><font size=2>Evaluando cosenos y aplicando propiedades</font></center>\n",
    "\n",
    "$$ b_n = \\frac{3}{\\pi n} \\left( (-1)(-1)^{n} + 1 \\right) = \\frac{3}{\\pi n} \\left( (-1)^{n+1} + 1 \\right) $$\n"
   ]
  },
  {
   "cell_type": "code",
   "execution_count": 13,
   "metadata": {},
   "outputs": [],
   "source": [
    "# Coeficientes implementados como una función anónima \n",
    "ex1_a0 = 3 # Menos este\n",
    "ex1_bn = lambda n: ((3)/(np.pi*n))*(((-1)**(n+1)) +1)"
   ]
  },
  {
   "cell_type": "markdown",
   "metadata": {},
   "source": [
    "#### Funciones trigonométricas\n",
    "\n",
    "Las funciones trigonométricas que usamos para este ejercicio tanto en las integrales como en la sumatoria corresponden a las siguientes funciones reemplazando el périodo $T$ para cada una.\n",
    "\n",
    "$$ \\sin \\left( \\frac{2\\pi n}{T}x\\right) = \\sin \\left( \\frac{2\\pi n}{10}x\\right) = \\sin \\left( \\frac{\\pi n}{5}x\\right) $$\n",
    "$$ \\cos \\left( \\frac{2\\pi n}{T}x\\right) = \\cos \\left( \\frac{2\\pi n}{10}x\\right) = \\cos \\left( \\frac{\\pi n}{5}x\\right) $$\n",
    "\n",
    "Recordemos que en este caso la variable independiente $x$ hace referencia a cada elemento dentro del arreglo $t$ e indica, en el contexto presente, cada segundo de nuestra variable temporal."
   ]
  },
  {
   "cell_type": "code",
   "execution_count": 14,
   "metadata": {},
   "outputs": [],
   "source": [
    "# Funciones trigonométricas implementadas como una función anónima\n",
    "ex1_sen = lambda n: np.sin((np.pi*n*t1)/5)\n",
    "ex1_cos = lambda n: np.cos((np.pi*n*t1)/5)"
   ]
  },
  {
   "cell_type": "code",
   "execution_count": 15,
   "metadata": {
    "colab": {
     "base_uri": "https://localhost:8080/",
     "height": 453
    },
    "id": "roxBO-nC4ZSm",
    "outputId": "3a7d30b4-b287-4bf2-c09e-f8408975edec"
   },
   "outputs": [
    {
     "data": {
      "application/vnd.jupyter.widget-view+json": {
       "model_id": "3691d1fda370466da5f528a37fb68525",
       "version_major": 2,
       "version_minor": 0
      },
      "text/plain": [
       "interactive(children=(IntSlider(value=3, description='to', max=11, min=3, step=2), Output()), _dom_classes=('w…"
      ]
     },
     "metadata": {},
     "output_type": "display_data"
    },
    {
     "data": {
      "text/plain": [
       "<function __main__.example1(to=3)>"
      ]
     },
     "execution_count": 15,
     "metadata": {},
     "output_type": "execute_result"
    }
   ],
   "source": [
    "def example1(to=3):\n",
    "    \n",
    "    fourier = ex1_a0/2 + sum([ex1_bn(n)*ex1_sen(n)  for n in range(1,to+1)])\n",
    "    \n",
    "    plt.plot(t1,y1,'b.', t1,fourier,'r-')\n",
    "    plt.legend(['f(x)',f'Grado {to}'])\n",
    "    plt.axis([-5,5,-1,5])\n",
    "    plt.grid(True)\n",
    "    plt.title(\"Función original\")\n",
    "    plt.show()\n",
    "\n",
    "ipywidgets.interact(example1, to=(3,11,2))"
   ]
  },
  {
   "cell_type": "markdown",
   "metadata": {
    "id": "RCQSqh3WReCv"
   },
   "source": [
    "### Ejemplo 2\n",
    "\n",
    "Consideremos la siguiente función a trozos definida en el dominio de intervalo [-5,5] y de périodo $T = 10$.\n",
    "$$ g(x) = \\left\\{\n",
    "    \\begin{array}{lcc} \n",
    "    0 & si & x < -3 \\\\\n",
    "    1 & si & -3 < x < 3 \\\\\n",
    "    0 & si & x > 3 \n",
    "    \\end{array} \n",
    "    \\right.\n",
    "$$"
   ]
  },
  {
   "cell_type": "code",
   "execution_count": 16,
   "metadata": {},
   "outputs": [
    {
     "data": {
      "image/png": "[encoded data removed]",
      "text/plain": [
       "<Figure size 640x480 with 1 Axes>"
      ]
     },
     "metadata": {},
     "output_type": "display_data"
    }
   ],
   "source": [
    "# Generando espacio de trabajo\n",
    "t2 = np.linspace(-5,5,150) # variable independiente (temporal)\n",
    "y2 = np.zeros(150) # array con 150 elementos iguales a cero\n",
    "y2[30:120] = 1 # imágen cuando x está en el intervalo [-3, 3]\n",
    "\n",
    "# Generar la gráfica\n",
    "plt.plot(t2,y2,'b.')\n",
    "plt.legend(['f(x)'])\n",
    "plt.axis([-5,5,-1,5])\n",
    "plt.grid(True)\n",
    "plt.title(\"Función original\")\n",
    "plt.show()"
   ]
  },
  {
   "cell_type": "markdown",
   "metadata": {},
   "source": [
    "#### Coeficientes de Fourier\n",
    "\n",
    "En esta parte (como el título indica) es para determinar los coeficientes de Fourier que pertenecen a la función $g(x)$, es importante recordar que la integral de cero (0) es igual a cero (0) y por ende, al momento de integrar no se tomará en cuenta el intervalo de la función donde la imágen de la misma es cero(0).\n",
    "\n",
    "<center><font size=4>Coeficiente $a_0$</font></center>\n",
    "\n",
    "Implementando la fórmula para hallar el coeficiente $a_0$ y reemplazando por los valores pertenecientes al ejemplo 1 obtenemos:\n",
    "$$ a_0 = \\frac{1}{5} \\int_{-3}^{3}  \\,dx = \\frac{1}{5} (x)\\big|_{-3}^{3} = \\frac{6}{5} $$\n",
    "\n",
    "<center><font size=4>Coeficiente $a_n$</font></center>\n",
    "\n",
    "Implementando la fórmula para hallar el coeficiente $a_n$ y reemplazando por los valores pertenecientes al ejemplo 1 obtenemos:\n",
    "$$ a_n = \\frac{1}{5} \\int_{-3}^{3} \\cos\\left(\\frac{\\pi n }{5}x\\right)\\,dx = \\frac{1}{5} \\left( \\frac{5}{\\pi n} \\sin\\left(\\frac{\\pi n }{5}x\\right)\\right)\\big|_{-3}^{3} $$\n",
    "\n",
    "<center><font size=2>Evaluando senos y aplicando propiedades</font></center>\n",
    "\n",
    "$$ a_n = \\frac{1}{5} \\left( \\frac{5}{\\pi n} \\sin\\left( \\frac{3\\pi n}{5} \\right) - \\frac{5}{\\pi n} \\sin\\left( \\frac{-3\\pi n}{5} \\right) \\right) $$\n",
    "<center><font size=2>Factorizando</font></center>\n",
    "\n",
    "$$ a_n = \\frac{1}{\\pi n} \\left( \\sin\\left( \\frac{3\\pi n}{5} \\right) - \\sin\\left( \\frac{-3\\pi n}{5} \\right) \\right) $$\n",
    "<center><font size=4>Coeficiente $b_n$</font></center>\n",
    "\n",
    "Implementando la fórmula para hallar el coeficiente $a_n$ y reemplazando por los valores pertenecientes al ejemplo 1 obtenemos:\n",
    "$$ b_n = \\frac{1}{5} \\int_{-3}^{3} \\sin\\left(\\frac{\\pi n }{5}x\\right)\\,dx = \\frac{1}{5} \\left( -\\frac{5}{\\pi n} \\cos\\left(\\frac{\\pi n }{5}x\\right)\\right)\\big|_{-3}^{3} $$\n",
    "<center><font size=2>Evaluando</font></center>\n",
    "\n",
    "$$ b_n = \\frac{1}{5} \\left( -\\frac{5}{\\pi n} \\cos\\left( \\frac{3\\pi n}{5} \\right) + \\frac{5}{\\pi n} \\cos\\left( \\frac{-3\\pi n}{5} \\right) \\right) $$\n",
    "<center><font size=2>Factorizando y reescribiendo</font></center>\n",
    "\n",
    "$$ b_n = \\frac{1}{\\pi n} \\left( - \\cos\\left( \\frac{3\\pi n}{5} \\right) + \\cos\\left( \\frac{-3\\pi n}{5} \\right) \\right) $$\n"
   ]
  },
  {
   "cell_type": "code",
   "execution_count": 17,
   "metadata": {},
   "outputs": [],
   "source": [
    "ex2_a0 = 6/5\n",
    "ex2_an = lambda n: (1/(np.pi*n))*(np.sin((3*np.pi*n)/5) - np.sin((-3*np.pi*n)/5))\n",
    "ex2_bn = lambda n: (1/(np.pi*n))*(-np.cos((3*np.pi*n)/5) + np.cos((-3*np.pi*n)/5))"
   ]
  },
  {
   "cell_type": "markdown",
   "metadata": {},
   "source": [
    "#### Funciones trigonométricas\n",
    "\n",
    "Las funciones trigonométricas que usamos para este ejercicio tanto en las integrales como en la sumatoria corresponden a las siguientes funciones reemplazando el périodo $T$ para cada una.\n",
    "\n",
    "$$ \\sin \\left( \\frac{2\\pi n}{T}x\\right) = \\sin \\left( \\frac{2\\pi n}{10}x\\right) = \\sin \\left( \\frac{\\pi n}{5}x\\right) $$\n",
    "$$ \\cos \\left( \\frac{2\\pi n}{T}x\\right) = \\cos \\left( \\frac{2\\pi n}{10}x\\right) = \\cos \\left( \\frac{\\pi n}{5}x\\right) $$\n",
    "\n",
    "Recordemos que en este caso la variable independiente $x$ hace referencia a cada elemento dentro del arreglo $t$ e indica, en el contexto presente, cada segundo de nuestra variable temporal."
   ]
  },
  {
   "cell_type": "code",
   "execution_count": 18,
   "metadata": {},
   "outputs": [],
   "source": [
    "ex2_sen = lambda n: np.sin((np.pi*n*t2)/5)\n",
    "ex2_cos = lambda n: np.cos((np.pi*n*t2)/5)"
   ]
  },
  {
   "cell_type": "code",
   "execution_count": 19,
   "metadata": {},
   "outputs": [
    {
     "data": {
      "application/vnd.jupyter.widget-view+json": {
       "model_id": "5f346984f2d24a2cb1de4e634fa577d6",
       "version_major": 2,
       "version_minor": 0
      },
      "text/plain": [
       "interactive(children=(IntSlider(value=2, description='to', max=11, min=2), Output()), _dom_classes=('widget-in…"
      ]
     },
     "metadata": {},
     "output_type": "display_data"
    },
    {
     "data": {
      "text/plain": [
       "<function __main__.example2(to=2)>"
      ]
     },
     "execution_count": 19,
     "metadata": {},
     "output_type": "execute_result"
    }
   ],
   "source": [
    "def example2(to=2):\n",
    "\n",
    "    fourier = ex2_a0/2 + sum([ex2_an(n)*ex2_cos(n) + ex2_bn(n)*ex2_sen(n)  for n in range(1,to+1)])\n",
    "    \n",
    "    plt.plot(t2,y2,'b.',t2,fourier,'r-')\n",
    "    plt.legend(['g(x)',f'Grado {to}'])\n",
    "    plt.axis([-5,5,-1,5])\n",
    "    plt.grid(True)\n",
    "    plt.title(\"Función original\")\n",
    "    plt.show()\n",
    "\n",
    "ipywidgets.interact(example2, to=(2,11))"
   ]
  }
 ],
 "metadata": {
  "colab": {
   "collapsed_sections": [
    "aO-xluArRLUn"
   ],
   "provenance": []
  },
  "kernelspec": {
   "display_name": "Spoken Language Processing",
   "language": "python",
   "name": "speech"
  },
  "language_info": {
   "codemirror_mode": {
    "name": "ipython",
    "version": 3
   },
   "file_extension": ".py",
   "mimetype": "text/x-python",
   "name": "python",
   "nbconvert_exporter": "python",
   "pygments_lexer": "ipython3",
   "version": "3.12.3"
  }
 },
 "nbformat": 4,
 "nbformat_minor": 4
}
